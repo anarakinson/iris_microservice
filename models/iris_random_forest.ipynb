{
 "cells": [
  {
   "cell_type": "markdown",
   "id": "a337603d",
   "metadata": {},
   "source": [
    "# Ноутбук для обучения модели\n",
    "---"
   ]
  },
  {
   "cell_type": "code",
   "execution_count": 2,
   "id": "b4354f11",
   "metadata": {},
   "outputs": [],
   "source": [
    "import numpy as np\n",
    "\n",
    "from sklearn import datasets\n",
    "from sklearn.ensemble import RandomForestClassifier\n",
    "from sklearn.model_selection import GridSearchCV, train_test_split\n",
    "from sklearn.metrics import f1_score, accuracy_score, precision_score, recall_score\n",
    "\n",
    "import pickle"
   ]
  },
  {
   "cell_type": "code",
   "execution_count": null,
   "id": "d5d1251c",
   "metadata": {},
   "outputs": [],
   "source": []
  },
  {
   "cell_type": "code",
   "execution_count": 3,
   "id": "d82eeac8",
   "metadata": {},
   "outputs": [],
   "source": [
    "# Загрузка данных для обучения\n",
    "data = datasets.load_iris()"
   ]
  },
  {
   "cell_type": "code",
   "execution_count": 4,
   "id": "5bce0e61",
   "metadata": {},
   "outputs": [],
   "source": [
    "x_data = data.data\n",
    "y_data = data.target"
   ]
  },
  {
   "cell_type": "code",
   "execution_count": 5,
   "id": "3b861085",
   "metadata": {},
   "outputs": [],
   "source": [
    "# Разбивка на обучающую и тестовую выборки \n",
    "x_train, x_test, y_train, y_test = train_test_split(x_data, y_data)"
   ]
  },
  {
   "cell_type": "code",
   "execution_count": 6,
   "id": "3281bc4e",
   "metadata": {},
   "outputs": [
    {
     "name": "stdout",
     "output_type": "stream",
     "text": [
      "(112, 4) (112,)\n"
     ]
    }
   ],
   "source": [
    "print(x_train.shape, y_train.shape)"
   ]
  },
  {
   "cell_type": "markdown",
   "id": "e5c3b123",
   "metadata": {},
   "source": [
    "### Обучение"
   ]
  },
  {
   "cell_type": "code",
   "execution_count": 7,
   "id": "258cbc32",
   "metadata": {},
   "outputs": [
    {
     "data": {
      "text/plain": [
       "RandomForestClassifier(max_depth=2, random_state=0)"
      ]
     },
     "execution_count": 7,
     "metadata": {},
     "output_type": "execute_result"
    }
   ],
   "source": [
    "# Загрузка модели случайного леса\n",
    "clf = RandomForestClassifier(max_depth=2, random_state=0)\n",
    "clf.fit(x_data, y_data)"
   ]
  },
  {
   "cell_type": "code",
   "execution_count": null,
   "id": "d6d91dce",
   "metadata": {},
   "outputs": [],
   "source": [
    "# Обучение методом GreadSearch с разными параметрами\n",
    "param_grid = {\n",
    "                 'n_estimators': [3, 5, 10, 15, 20, 30, 50, 75, 100],\n",
    "                 'max_depth': [2, 5, 7, 9]\n",
    "             }\n",
    "\n",
    "grid_clf = GridSearchCV(clf, param_grid, cv=5)\n",
    "grid_clf.fit(x_train, y_train)\n"
   ]
  },
  {
   "cell_type": "markdown",
   "id": "1748fabc",
   "metadata": {},
   "source": [
    "### Валидация"
   ]
  },
  {
   "cell_type": "code",
   "execution_count": null,
   "id": "032544dc",
   "metadata": {},
   "outputs": [],
   "source": [
    "# Параметры лучшего эстиматора\n",
    "grid_clf.best_estimator_"
   ]
  },
  {
   "cell_type": "code",
   "execution_count": null,
   "id": "00472512",
   "metadata": {},
   "outputs": [],
   "source": [
    "y_pred = grid_clf.predict(x_test)"
   ]
  },
  {
   "cell_type": "code",
   "execution_count": null,
   "id": "86ae024a",
   "metadata": {},
   "outputs": [],
   "source": [
    "f1 = f1_score(y_pred, y_test, average='macro')\n",
    "acc = accuracy_score(y_pred, y_test)"
   ]
  },
  {
   "cell_type": "code",
   "execution_count": null,
   "id": "63a20302",
   "metadata": {},
   "outputs": [],
   "source": [
    "print(f\"Accuracy: {acc : .4f}\")\n",
    "print(f\"F1-Score: {f1 : .4f}\")\n",
    "print(f\"Точность (Precision): {precision_score(y_test, y_pred, average='macro') : .4f}\")\n",
    "print(f\"Полнота (Recall): {recall_score(y_test, y_pred, average='macro') : .4f}\")"
   ]
  },
  {
   "cell_type": "markdown",
   "id": "8eedf2f4",
   "metadata": {},
   "source": [
    "### Сериализация"
   ]
  },
  {
   "cell_type": "code",
   "execution_count": null,
   "id": "501b9968",
   "metadata": {},
   "outputs": [],
   "source": [
    "filename = \"random_forest_model.pkl\"\n",
    "model = grid_clf\n",
    "\n",
    "with open(filename, \"wb\") as f:\n",
    "    pickle.dump(model, f)"
   ]
  },
  {
   "cell_type": "code",
   "execution_count": null,
   "id": "80ed5032",
   "metadata": {},
   "outputs": [],
   "source": [
    "with open(filename, \"rb\") as f:\n",
    "    new_model = pickle.load(f)"
   ]
  },
  {
   "cell_type": "code",
   "execution_count": 119,
   "id": "eb2db007",
   "metadata": {},
   "outputs": [
    {
     "name": "stdout",
     "output_type": "stream",
     "text": [
      "0.972632731253421\n",
      "0.9736842105263158\n"
     ]
    }
   ],
   "source": [
    "# Проверка, что сохранение прошло успешно\n",
    "y_pred = new_model.predict(x_test)\n",
    "print(f1_score(y_test, y_pred, average=\"macro\"))\n",
    "print(accuracy_score(y_test, y_pred))"
   ]
  },
  {
   "cell_type": "code",
   "execution_count": null,
   "id": "e66c3906",
   "metadata": {},
   "outputs": [],
   "source": []
  }
 ],
 "metadata": {
  "kernelspec": {
   "display_name": "Python 3 (ipykernel)",
   "language": "python",
   "name": "python3"
  },
  "language_info": {
   "codemirror_mode": {
    "name": "ipython",
    "version": 3
   },
   "file_extension": ".py",
   "mimetype": "text/x-python",
   "name": "python",
   "nbconvert_exporter": "python",
   "pygments_lexer": "ipython3",
   "version": "3.8.0"
  }
 },
 "nbformat": 4,
 "nbformat_minor": 5
}
